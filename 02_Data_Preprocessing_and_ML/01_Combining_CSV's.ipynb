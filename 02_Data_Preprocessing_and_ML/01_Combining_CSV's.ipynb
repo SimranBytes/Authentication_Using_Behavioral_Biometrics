{
  "nbformat": 4,
  "nbformat_minor": 0,
  "metadata": {
    "colab": {
      "provenance": []
    },
    "kernelspec": {
      "name": "python3",
      "display_name": "Python 3"
    },
    "language_info": {
      "name": "python"
    }
  },
  "cells": [
    {
      "cell_type": "markdown",
      "source": [
        "**Combining the Data Collected**\n",
        "\n",
        "The data we collected spans more than million rows if combined. We tried to combine it on Microsoft Excel, but it crashed every time on every computer we tried. Hence, we will convert them into a single file using pandas, converting it into a dataframe."
      ],
      "metadata": {
        "id": "pNBnfj0h7A_W"
      }
    },
    {
      "cell_type": "code",
      "execution_count": null,
      "metadata": {
        "id": "n9T1LDdVmaBy"
      },
      "outputs": [],
      "source": [
        "import pandas as pd\n",
        "import os\n",
        "from google.colab import drive"
      ]
    },
    {
      "cell_type": "code",
      "source": [
        "drive.mount('/content/drive')"
      ],
      "metadata": {
        "colab": {
          "base_uri": "https://localhost:8080/"
        },
        "id": "9YihtL1znN08",
        "outputId": "66c4e143-9ed5-48a9-805c-98843184687b"
      },
      "execution_count": null,
      "outputs": [
        {
          "output_type": "stream",
          "name": "stdout",
          "text": [
            "Mounted at /content/drive\n"
          ]
        }
      ]
    },
    {
      "cell_type": "markdown",
      "source": [
        "After mounting the drive, on my drive, there is a folder named 'Major Project'. It has all the 25 csv files that could not be combined manually."
      ],
      "metadata": {
        "id": "KSM-QljS6VNC"
      }
    },
    {
      "cell_type": "code",
      "source": [
        "folder_path = \"/content/drive/My Drive/Major Project/\""
      ],
      "metadata": {
        "id": "58lfA1NAnf4Y"
      },
      "execution_count": null,
      "outputs": []
    },
    {
      "cell_type": "code",
      "source": [
        "csv_files = [f for f in os.listdir(folder_path) if f.endswith('.csv')]"
      ],
      "metadata": {
        "id": "q6ZV_BcVn67o"
      },
      "execution_count": null,
      "outputs": []
    },
    {
      "cell_type": "markdown",
      "source": [
        "In this, since the names are numbered, we are adding a column named 'Person'. Each person is the number at the start of filename. In code, this is implemented by taking the frst two characters, and that is the string to be added to the Person column of that row."
      ],
      "metadata": {
        "id": "ybd8EYKs6kTh"
      }
    },
    {
      "cell_type": "code",
      "source": [
        "dfs = []\n",
        "\n",
        "for filename in csv_files:\n",
        "    try:\n",
        "        person_id = filename[:2]\n",
        "\n",
        "        df = pd.read_csv(os.path.join(folder_path, filename))\n",
        "        df.insert(0, \"Person\", person_id)\n",
        "\n",
        "        dfs.append(df)\n",
        "\n",
        "        print(f\"Processed: {filename}\")\n",
        "\n",
        "    except Exception as e:\n",
        "        print(f\"❌ Error processing {filename}: {e}\")"
      ],
      "metadata": {
        "colab": {
          "base_uri": "https://localhost:8080/"
        },
        "id": "5_hu0AYDn8ne",
        "outputId": "bb5628e1-c6ad-44cc-c627-8114cbffeef9"
      },
      "execution_count": null,
      "outputs": [
        {
          "output_type": "stream",
          "name": "stdout",
          "text": [
            "Processed: 01 sensor_data - Akshit Calling Akshit.csv\n",
            "Processed: 02 sensor_data - Manisha Sharma.csv\n",
            "Processed: 03 sensor_data - Prashast Sharma.csv\n",
            "Processed: 04 sensor_data - Akshit Sharma.csv\n",
            "Processed: 05 sensor_data - Subodh C. Sharma.csv\n",
            "Processed: 06 sensor_data - Pragati Thakur.csv\n",
            "Processed: 07 sensor_data - Yukti Sharma.csv\n",
            "Processed: 08 sensor_data - Utkarsh Sharma.csv\n",
            "Processed: 09 sensor_data - Narendra Sharma [LESS].csv\n",
            "Processed: 10 sensor_data - Ishant Sharma [LESS].csv\n",
            "Processed: 11 sensor_data - Kartik Sharma.csv\n",
            "Processed: 12 sensor_data - Krishna Devi.csv\n",
            "Processed: 13 sensor_data - Reyaansh Sharma.csv\n",
            "Processed: 14 sensor_data - Bimla Devi Sharma.csv\n",
            "Processed: 15 sensor_data - Aman Shrivastava.csv\n",
            "Processed: 16 sensor_data - Ekshta Mishra.csv\n",
            "Processed: 17 sensor_data - Somya Soni.csv\n",
            "Processed: 18 sensor_data - Harshit Srivastava.csv\n",
            "Processed: 19 sensor_data - Rushil Agnihotri.csv\n",
            "Processed: 20 sensor_data - Adarsh Mahajan.csv\n",
            "Processed: 22 sensor_data - Swapnil Tyagi.csv\n",
            "Processed: 23 sensor_data - Kartikey Attri.csv\n",
            "Processed: 24 sensor_data - Shivansh.csv\n",
            "Processed: 21 sensor_data - Simran.csv\n",
            "Processed: 25 sensor_data - Utkarsh.csv\n"
          ]
        }
      ]
    },
    {
      "cell_type": "code",
      "source": [
        "merged_df = pd.concat(dfs, ignore_index=True)\n",
        "output_path = \"/content/drive/My Drive/merged_data_with_persons2.csv\"\n",
        "merged_df.to_csv(output_path, index=False)\n",
        "print(f\"\\n Merged CSV saved at: {output_path}\")"
      ],
      "metadata": {
        "colab": {
          "base_uri": "https://localhost:8080/"
        },
        "id": "36CFCPSTosJ-",
        "outputId": "ec882415-79d5-4d5f-ee66-8e49528b822e"
      },
      "execution_count": null,
      "outputs": [
        {
          "output_type": "stream",
          "name": "stdout",
          "text": [
            "\n",
            " Merged CSV saved at: /content/drive/My Drive/merged_data_with_persons2.csv\n"
          ]
        }
      ]
    }
  ]
}